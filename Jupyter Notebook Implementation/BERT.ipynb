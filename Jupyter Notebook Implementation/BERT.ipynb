{
 "cells": [
  {
   "cell_type": "markdown",
   "metadata": {},
   "source": [
    "# BERT "
   ]
  },
  {
   "cell_type": "markdown",
   "metadata": {
    "id": "bXM-GIvMuxRk"
   },
   "source": [
    "# Importing the data"
   ]
  },
  {
   "cell_type": "code",
   "execution_count": 1,
   "metadata": {
    "colab": {
     "base_uri": "https://localhost:8080/"
    },
    "id": "vlKMd42jrgzw",
    "outputId": "a6b5fdfe-112d-4c72-c409-18a7b4252d4f"
   },
   "outputs": [],
   "source": [
    "# from google.colab import drive\n",
    "# drive.mount('/content/drive', force_remount=True)"
   ]
  },
  {
   "cell_type": "code",
   "execution_count": 2,
   "metadata": {
    "id": "HglPceNVrvdk"
   },
   "outputs": [],
   "source": [
    "import pandas as pd\n",
    "import seaborn as sns"
   ]
  },
  {
   "cell_type": "code",
   "execution_count": 3,
   "metadata": {
    "id": "JR-EuBbBrW6E"
   },
   "outputs": [],
   "source": [
    "path = 'Before_BERT(Preprocessed).csv'\n",
    "df = pd.read_csv(path, index_col = 0, keep_default_na=False)"
   ]
  },
  {
   "cell_type": "code",
   "execution_count": 4,
   "metadata": {
    "colab": {
     "base_uri": "https://localhost:8080/",
     "height": 568
    },
    "id": "CLPNXylbrtty",
    "outputId": "31cee4d3-9192-47ca-fba8-34d6cfd30a1c"
   },
   "outputs": [
    {
     "data": {
      "text/html": [
       "<div>\n",
       "<style scoped>\n",
       "    .dataframe tbody tr th:only-of-type {\n",
       "        vertical-align: middle;\n",
       "    }\n",
       "\n",
       "    .dataframe tbody tr th {\n",
       "        vertical-align: top;\n",
       "    }\n",
       "\n",
       "    .dataframe thead th {\n",
       "        text-align: right;\n",
       "    }\n",
       "</style>\n",
       "<table border=\"1\" class=\"dataframe\">\n",
       "  <thead>\n",
       "    <tr style=\"text-align: right;\">\n",
       "      <th></th>\n",
       "      <th>Job Title</th>\n",
       "      <th>Company Name</th>\n",
       "      <th>Industry</th>\n",
       "      <th>Company Location</th>\n",
       "      <th>New Job (90 Days)</th>\n",
       "      <th>Year Started</th>\n",
       "      <th>Profile Headline</th>\n",
       "      <th>Profile Summary</th>\n",
       "      <th>School</th>\n",
       "      <th>Degree</th>\n",
       "      <th>Education End</th>\n",
       "      <th>Field of Study</th>\n",
       "      <th>Domain</th>\n",
       "      <th>CompanyName</th>\n",
       "      <th>JobTitle</th>\n",
       "      <th>My Network</th>\n",
       "      <th>Country</th>\n",
       "      <th>Continent</th>\n",
       "      <th>FieldOfStudy</th>\n",
       "    </tr>\n",
       "  </thead>\n",
       "  <tbody>\n",
       "    <tr>\n",
       "      <th>0</th>\n",
       "      <td>Battery Designer</td>\n",
       "      <td>Rivian</td>\n",
       "      <td>Mechanical or Industrial Engineering</td>\n",
       "      <td>Dublin, Ohio, United States</td>\n",
       "      <td>False</td>\n",
       "      <td>2020.0</td>\n",
       "      <td>Mechanical Design Engineer, System Integration...</td>\n",
       "      <td>In the ever-growing technological world where ...</td>\n",
       "      <td>Chalmers University of Technology</td>\n",
       "      <td>pg</td>\n",
       "      <td>group2</td>\n",
       "      <td>(Conventional, Hybrid and Electric Vehicles)</td>\n",
       "      <td>Arts and Design</td>\n",
       "      <td>Rivian</td>\n",
       "      <td>Designer</td>\n",
       "      <td>network</td>\n",
       "      <td>United States</td>\n",
       "      <td>NA</td>\n",
       "      <td>Electrical, Electronics and Communication Engi...</td>\n",
       "    </tr>\n",
       "    <tr>\n",
       "      <th>1</th>\n",
       "      <td>Digital DevOps Engineer</td>\n",
       "      <td>HSBC</td>\n",
       "      <td>Information Technology and Services</td>\n",
       "      <td>New York City Metropolitan Area</td>\n",
       "      <td>False</td>\n",
       "      <td>2018.0</td>\n",
       "      <td>Digital DevOps Engineer at HSBC</td>\n",
       "      <td>AWS Certified Cloud Engineer holding 3 AWS Ass...</td>\n",
       "      <td>Binghamton University</td>\n",
       "      <td>pg</td>\n",
       "      <td>group2</td>\n",
       "      <td>Computer Science</td>\n",
       "      <td>Arts and Design</td>\n",
       "      <td>HSBC</td>\n",
       "      <td>developer</td>\n",
       "      <td>network</td>\n",
       "      <td>United States</td>\n",
       "      <td>NA</td>\n",
       "      <td>Computer Science</td>\n",
       "    </tr>\n",
       "    <tr>\n",
       "      <th>2</th>\n",
       "      <td>Product Designer</td>\n",
       "      <td>Two Point Conversions, Inc.</td>\n",
       "      <td>Information Technology and Services</td>\n",
       "      <td>Chicago, Illinois, United States</td>\n",
       "      <td>False</td>\n",
       "      <td>2018.0</td>\n",
       "      <td>Leading Product + UX at Remedy (Two Point Conv...</td>\n",
       "      <td>http://aroonmathai.com</td>\n",
       "      <td>Carnegie Mellon University</td>\n",
       "      <td>pg</td>\n",
       "      <td>group2</td>\n",
       "      <td>Human Computer Interaction</td>\n",
       "      <td>Arts and Design</td>\n",
       "      <td>Two Point Conversions, Inc.</td>\n",
       "      <td>Designer</td>\n",
       "      <td>network</td>\n",
       "      <td>United States</td>\n",
       "      <td>NA</td>\n",
       "      <td>Computer Science</td>\n",
       "    </tr>\n",
       "    <tr>\n",
       "      <th>3</th>\n",
       "      <td>Product Designer</td>\n",
       "      <td>udaan.com</td>\n",
       "      <td>Information Technology and Services</td>\n",
       "      <td>Bangalore Urban, Karnataka, India</td>\n",
       "      <td>False</td>\n",
       "      <td>2018.0</td>\n",
       "      <td>Product Designer at udaan</td>\n",
       "      <td></td>\n",
       "      <td>Vellore Institute of Technology</td>\n",
       "      <td>ug</td>\n",
       "      <td>group2</td>\n",
       "      <td>Information Technology</td>\n",
       "      <td>Arts and Design</td>\n",
       "      <td>udaan.com</td>\n",
       "      <td>Designer</td>\n",
       "      <td>network</td>\n",
       "      <td>India</td>\n",
       "      <td>AS</td>\n",
       "      <td>Computer Science</td>\n",
       "    </tr>\n",
       "    <tr>\n",
       "      <th>4</th>\n",
       "      <td>Digital Technology Intern</td>\n",
       "      <td>GE</td>\n",
       "      <td>Information Technology and Services</td>\n",
       "      <td>Jaipur, Rajasthan, India</td>\n",
       "      <td>True</td>\n",
       "      <td>2021.0</td>\n",
       "      <td>Digital Technology Intern at General Electric ...</td>\n",
       "      <td></td>\n",
       "      <td>Vellore Institute of Technology</td>\n",
       "      <td>ug</td>\n",
       "      <td>group1</td>\n",
       "      <td>Information Technology</td>\n",
       "      <td>Arts and Design</td>\n",
       "      <td>GE</td>\n",
       "      <td>Intern</td>\n",
       "      <td>network</td>\n",
       "      <td>India</td>\n",
       "      <td>AS</td>\n",
       "      <td>Computer Science</td>\n",
       "    </tr>\n",
       "  </tbody>\n",
       "</table>\n",
       "</div>"
      ],
      "text/plain": [
       "                   Job Title                 Company Name  \\\n",
       "0           Battery Designer                       Rivian   \n",
       "1    Digital DevOps Engineer                         HSBC   \n",
       "2           Product Designer  Two Point Conversions, Inc.   \n",
       "3           Product Designer                    udaan.com   \n",
       "4  Digital Technology Intern                           GE   \n",
       "\n",
       "                               Industry                   Company Location  \\\n",
       "0  Mechanical or Industrial Engineering        Dublin, Ohio, United States   \n",
       "1   Information Technology and Services    New York City Metropolitan Area   \n",
       "2   Information Technology and Services   Chicago, Illinois, United States   \n",
       "3   Information Technology and Services  Bangalore Urban, Karnataka, India   \n",
       "4   Information Technology and Services           Jaipur, Rajasthan, India   \n",
       "\n",
       "   New Job (90 Days)  Year Started  \\\n",
       "0              False        2020.0   \n",
       "1              False        2018.0   \n",
       "2              False        2018.0   \n",
       "3              False        2018.0   \n",
       "4               True        2021.0   \n",
       "\n",
       "                                    Profile Headline  \\\n",
       "0  Mechanical Design Engineer, System Integration...   \n",
       "1                    Digital DevOps Engineer at HSBC   \n",
       "2  Leading Product + UX at Remedy (Two Point Conv...   \n",
       "3                          Product Designer at udaan   \n",
       "4  Digital Technology Intern at General Electric ...   \n",
       "\n",
       "                                     Profile Summary  \\\n",
       "0  In the ever-growing technological world where ...   \n",
       "1  AWS Certified Cloud Engineer holding 3 AWS Ass...   \n",
       "2                             http://aroonmathai.com   \n",
       "3                                                      \n",
       "4                                                      \n",
       "\n",
       "                              School Degree Education End  \\\n",
       "0  Chalmers University of Technology     pg        group2   \n",
       "1              Binghamton University     pg        group2   \n",
       "2         Carnegie Mellon University     pg        group2   \n",
       "3    Vellore Institute of Technology     ug        group2   \n",
       "4    Vellore Institute of Technology     ug        group1   \n",
       "\n",
       "                                 Field of Study           Domain  \\\n",
       "0  (Conventional, Hybrid and Electric Vehicles)  Arts and Design   \n",
       "1                              Computer Science  Arts and Design   \n",
       "2                    Human Computer Interaction  Arts and Design   \n",
       "3                        Information Technology  Arts and Design   \n",
       "4                        Information Technology  Arts and Design   \n",
       "\n",
       "                   CompanyName   JobTitle My Network        Country Continent  \\\n",
       "0                       Rivian   Designer    network  United States        NA   \n",
       "1                         HSBC  developer    network  United States        NA   \n",
       "2  Two Point Conversions, Inc.   Designer    network  United States        NA   \n",
       "3                    udaan.com   Designer    network          India        AS   \n",
       "4                           GE     Intern    network          India        AS   \n",
       "\n",
       "                                        FieldOfStudy  \n",
       "0  Electrical, Electronics and Communication Engi...  \n",
       "1                                   Computer Science  \n",
       "2                                   Computer Science  \n",
       "3                                   Computer Science  \n",
       "4                                   Computer Science  "
      ]
     },
     "execution_count": 4,
     "metadata": {},
     "output_type": "execute_result"
    }
   ],
   "source": [
    "df.head()"
   ]
  },
  {
   "cell_type": "code",
   "execution_count": 5,
   "metadata": {
    "colab": {
     "base_uri": "https://localhost:8080/"
    },
    "id": "HbBZzu5frznw",
    "outputId": "78b8c7bc-fb16-4d93-d50c-5c86a92f3ae8"
   },
   "outputs": [
    {
     "name": "stdout",
     "output_type": "stream",
     "text": [
      "<class 'pandas.core.frame.DataFrame'>\n",
      "Int64Index: 4910 entries, 0 to 4909\n",
      "Data columns (total 19 columns):\n",
      " #   Column             Non-Null Count  Dtype  \n",
      "---  ------             --------------  -----  \n",
      " 0   Job Title          4910 non-null   object \n",
      " 1   Company Name       4910 non-null   object \n",
      " 2   Industry           4910 non-null   object \n",
      " 3   Company Location   4910 non-null   object \n",
      " 4   New Job (90 Days)  4910 non-null   bool   \n",
      " 5   Year Started       4910 non-null   float64\n",
      " 6   Profile Headline   4910 non-null   object \n",
      " 7   Profile Summary    4910 non-null   object \n",
      " 8   School             4910 non-null   object \n",
      " 9   Degree             4910 non-null   object \n",
      " 10  Education End      4910 non-null   object \n",
      " 11  Field of Study     4910 non-null   object \n",
      " 12  Domain             4910 non-null   object \n",
      " 13  CompanyName        4910 non-null   object \n",
      " 14  JobTitle           4910 non-null   object \n",
      " 15  My Network         4910 non-null   object \n",
      " 16  Country            4910 non-null   object \n",
      " 17  Continent          4910 non-null   object \n",
      " 18  FieldOfStudy       4910 non-null   object \n",
      "dtypes: bool(1), float64(1), object(17)\n",
      "memory usage: 733.6+ KB\n"
     ]
    }
   ],
   "source": [
    "df.info()"
   ]
  },
  {
   "cell_type": "code",
   "execution_count": 6,
   "metadata": {
    "colab": {
     "base_uri": "https://localhost:8080/",
     "height": 368
    },
    "id": "jJvVpARjr1Bc",
    "outputId": "e58654de-e020-4cec-c206-0e0c3d180a21"
   },
   "outputs": [
    {
     "data": {
      "text/plain": [
       "<AxesSubplot:>"
      ]
     },
     "execution_count": 6,
     "metadata": {},
     "output_type": "execute_result"
    },
    {
     "data": {
      "image/png": "[encoded data removed]",
      "text/plain": [
       "<Figure size 432x288 with 2 Axes>"
      ]
     },
     "metadata": {
      "needs_background": "light"
     },
     "output_type": "display_data"
    }
   ],
   "source": [
    "sns.heatmap(df.isnull())"
   ]
  },
  {
   "cell_type": "markdown",
   "metadata": {
    "id": "gbZzdgEbu1L5"
   },
   "source": [
    "# BERT"
   ]
  },
  {
   "cell_type": "code",
   "execution_count": 7,
   "metadata": {
    "colab": {
     "base_uri": "https://localhost:8080/"
    },
    "id": "Y5HyeUj8u7iK",
    "outputId": "adcd0bf5-a51b-42c4-ef97-80280c488f6b"
   },
   "outputs": [
    {
     "name": "stdout",
     "output_type": "stream",
     "text": [
      "Requirement already satisfied: sentence-transformers in c:\\users\\hp\\anaconda3\\lib\\site-packages (1.1.1)\n",
      "Requirement already satisfied: transformers<5.0.0,>=3.1.0 in c:\\users\\hp\\anaconda3\\lib\\site-packages (from sentence-transformers) (3.3.1)\n",
      "Requirement already satisfied: scipy in c:\\users\\hp\\anaconda3\\lib\\site-packages (from sentence-transformers) (1.6.1)\n",
      "Requirement already satisfied: tqdm in c:\\users\\hp\\anaconda3\\lib\\site-packages (from sentence-transformers) (4.58.0)\n",
      "Requirement already satisfied: scikit-learn in c:\\users\\hp\\anaconda3\\lib\\site-packages (from sentence-transformers) (0.23.2)\n",
      "Requirement already satisfied: sentencepiece in c:\\users\\hp\\anaconda3\\lib\\site-packages (from sentence-transformers) (0.1.91)\n",
      "Requirement already satisfied: nltk in c:\\users\\hp\\anaconda3\\lib\\site-packages (from sentence-transformers) (3.5)\n",
      "Requirement already satisfied: numpy in c:\\users\\hp\\anaconda3\\lib\\site-packages (from sentence-transformers) (1.20.3)\n",
      "Requirement already satisfied: torch>=1.6.0 in c:\\users\\hp\\anaconda3\\lib\\site-packages (from sentence-transformers) (1.6.0)\n",
      "Requirement already satisfied: torchvision in c:\\users\\hp\\anaconda3\\lib\\site-packages (from sentence-transformers) (0.7.0)\n",
      "Requirement already satisfied: regex in c:\\users\\hp\\anaconda3\\lib\\site-packages (from nltk->sentence-transformers) (2020.11.13)\n",
      "Requirement already satisfied: click in c:\\users\\hp\\anaconda3\\lib\\site-packages (from nltk->sentence-transformers) (7.1.2)\n",
      "Requirement already satisfied: joblib in c:\\users\\hp\\anaconda3\\lib\\site-packages (from nltk->sentence-transformers) (1.0.1)\n",
      "Requirement already satisfied: tqdm in c:\\users\\hp\\anaconda3\\lib\\site-packages (from sentence-transformers) (4.58.0)\n",
      "Requirement already satisfied: joblib in c:\\users\\hp\\anaconda3\\lib\\site-packages (from nltk->sentence-transformers) (1.0.1)\n",
      "Requirement already satisfied: numpy in c:\\users\\hp\\anaconda3\\lib\\site-packages (from sentence-transformers) (1.20.3)\n",
      "Requirement already satisfied: scipy in c:\\users\\hp\\anaconda3\\lib\\site-packages (from sentence-transformers) (1.6.1)\n",
      "Requirement already satisfied: threadpoolctl>=2.0.0 in c:\\users\\hp\\anaconda3\\lib\\site-packages (from scikit-learn->sentence-transformers) (2.1.0)\n",
      "Requirement already satisfied: numpy in c:\\users\\hp\\anaconda3\\lib\\site-packages (from sentence-transformers) (1.20.3)\n",
      "Requirement already satisfied: future in c:\\users\\hp\\anaconda3\\lib\\site-packages (from torch>=1.6.0->sentence-transformers) (0.18.2)\n",
      "Requirement already satisfied: numpy in c:\\users\\hp\\anaconda3\\lib\\site-packages (from sentence-transformers) (1.20.3)\n",
      "Requirement already satisfied: numpy in c:\\users\\hp\\anaconda3\\lib\\site-packages (from sentence-transformers) (1.20.3)\n",
      "Requirement already satisfied: torch>=1.6.0 in c:\\users\\hp\\anaconda3\\lib\\site-packages (from sentence-transformers) (1.6.0)\n",
      "Requirement already satisfied: pillow>=4.1.1 in c:\\users\\hp\\anaconda3\\lib\\site-packages (from torchvision->sentence-transformers) (8.0.1)\n",
      "Requirement already satisfied: tokenizers==0.8.1.rc2 in c:\\users\\hp\\anaconda3\\lib\\site-packages (from transformers<5.0.0,>=3.1.0->sentence-transformers) (0.8.1rc2)\n",
      "Requirement already satisfied: sentencepiece in c:\\users\\hp\\anaconda3\\lib\\site-packages (from sentence-transformers) (0.1.91)\n",
      "Requirement already satisfied: regex in c:\\users\\hp\\anaconda3\\lib\\site-packages (from nltk->sentence-transformers) (2020.11.13)\n",
      "Requirement already satisfied: filelock in c:\\users\\hp\\anaconda3\\lib\\site-packages (from transformers<5.0.0,>=3.1.0->sentence-transformers) (3.0.12)\n",
      "Requirement already satisfied: packaging in c:\\users\\hp\\anaconda3\\lib\\site-packages (from transformers<5.0.0,>=3.1.0->sentence-transformers) (20.7)\n",
      "Requirement already satisfied: tqdm in c:\\users\\hp\\anaconda3\\lib\\site-packages (from sentence-transformers) (4.58.0)\n",
      "Requirement already satisfied: numpy in c:\\users\\hp\\anaconda3\\lib\\site-packages (from sentence-transformers) (1.20.3)\n",
      "Requirement already satisfied: requests in c:\\users\\hp\\anaconda3\\lib\\site-packages (from transformers<5.0.0,>=3.1.0->sentence-transformers) (2.25.0)\n",
      "Requirement already satisfied: sacremoses in c:\\users\\hp\\anaconda3\\lib\\site-packages (from transformers<5.0.0,>=3.1.0->sentence-transformers) (0.0.43)\n",
      "Requirement already satisfied: pyparsing>=2.0.2 in c:\\users\\hp\\anaconda3\\lib\\site-packages (from packaging->transformers<5.0.0,>=3.1.0->sentence-transformers) (2.4.7)\n",
      "Requirement already satisfied: idna<3,>=2.5 in c:\\users\\hp\\anaconda3\\lib\\site-packages (from requests->transformers<5.0.0,>=3.1.0->sentence-transformers) (2.10)\n",
      "Requirement already satisfied: urllib3<1.27,>=1.21.1 in c:\\users\\hp\\anaconda3\\lib\\site-packages (from requests->transformers<5.0.0,>=3.1.0->sentence-transformers) (1.25.11)\n",
      "Requirement already satisfied: chardet<4,>=3.0.2 in c:\\users\\hp\\anaconda3\\lib\\site-packages (from requests->transformers<5.0.0,>=3.1.0->sentence-transformers) (3.0.4)\n",
      "Requirement already satisfied: certifi>=2017.4.17 in c:\\users\\hp\\anaconda3\\lib\\site-packages (from requests->transformers<5.0.0,>=3.1.0->sentence-transformers) (2020.12.5)\n",
      "Requirement already satisfied: joblib in c:\\users\\hp\\anaconda3\\lib\\site-packages (from nltk->sentence-transformers) (1.0.1)\n",
      "Requirement already satisfied: regex in c:\\users\\hp\\anaconda3\\lib\\site-packages (from nltk->sentence-transformers) (2020.11.13)\n",
      "Requirement already satisfied: click in c:\\users\\hp\\anaconda3\\lib\\site-packages (from nltk->sentence-transformers) (7.1.2)\n",
      "Requirement already satisfied: tqdm in c:\\users\\hp\\anaconda3\\lib\\site-packages (from sentence-transformers) (4.58.0)\n",
      "Requirement already satisfied: six in c:\\users\\hp\\anaconda3\\lib\\site-packages (from sacremoses->transformers<5.0.0,>=3.1.0->sentence-transformers) (1.15.0)\n"
     ]
    }
   ],
   "source": [
    "! pip install sentence-transformers"
   ]
  },
  {
   "cell_type": "code",
   "execution_count": 8,
   "metadata": {
    "colab": {
     "base_uri": "https://localhost:8080/"
    },
    "id": "eJ2MiFhXvAIt",
    "outputId": "35fa6b74-d6fe-40b0-e299-c850f23c1440"
   },
   "outputs": [
    {
     "name": "stdout",
     "output_type": "stream",
     "text": [
      "Requirement already satisfied: nlu in c:\\users\\hp\\anaconda3\\lib\\site-packages (3.0.1)\n",
      "Requirement already satisfied: pandas in c:\\users\\hp\\anaconda3\\lib\\site-packages (from nlu) (1.1.5)\n",
      "Requirement already satisfied: dataclasses in c:\\users\\hp\\anaconda3\\lib\\site-packages (from nlu) (0.6)\n",
      "Requirement already satisfied: pyarrow>=0.16.0 in c:\\users\\hp\\anaconda3\\lib\\site-packages (from nlu) (4.0.0)\n",
      "Requirement already satisfied: spark-nlp<3.1.0,>=3.0.0 in c:\\users\\hp\\anaconda3\\lib\\site-packages (from nlu) (3.0.3)\n",
      "Requirement already satisfied: numpy in c:\\users\\hp\\anaconda3\\lib\\site-packages (from nlu) (1.20.3)\n",
      "Requirement already satisfied: numpy in c:\\users\\hp\\anaconda3\\lib\\site-packages (from nlu) (1.20.3)\n",
      "Requirement already satisfied: pytz>=2017.2 in c:\\users\\hp\\anaconda3\\lib\\site-packages (from pandas->nlu) (2020.4)\n",
      "Requirement already satisfied: python-dateutil>=2.7.3 in c:\\users\\hp\\anaconda3\\lib\\site-packages (from pandas->nlu) (2.8.1)\n",
      "Requirement already satisfied: numpy in c:\\users\\hp\\anaconda3\\lib\\site-packages (from nlu) (1.20.3)\n",
      "Requirement already satisfied: six>=1.5 in c:\\users\\hp\\anaconda3\\lib\\site-packages (from python-dateutil>=2.7.3->pandas->nlu) (1.15.0)\n",
      "Requirement already satisfied: pyspark in c:\\users\\hp\\anaconda3\\lib\\site-packages (3.1.1)\n",
      "Requirement already satisfied: py4j==0.10.9 in c:\\users\\hp\\anaconda3\\lib\\site-packages (from pyspark) (0.10.9)\n"
     ]
    }
   ],
   "source": [
    "!pip install nlu\n",
    "!pip install pyspark"
   ]
  },
  {
   "cell_type": "code",
   "execution_count": 9,
   "metadata": {
    "colab": {
     "base_uri": "https://localhost:8080/",
     "height": 133,
     "referenced_widgets": [
      "5f85845aaa5c41509864b8eb73501ece",
      "f3f5f0cd89b54b2292c125188a1e2260",
      "c484f854efe44de088d104407313d118",
      "152fae227a5b49378ab9598054dcecc6",
      "2425d749fccf4a4dacdd71431b267eb7",
      "c3e023777df544aabc086cfa06eb2674",
      "057fdb8d6eda40b0ba5bd1b120d22c3f",
      "5a50317b200d46d0a5e75487073dbccc"
     ]
    },
    "id": "uXJk-vjru4Up",
    "outputId": "0b48c209-e724-46e1-8976-2116853a0cc3"
   },
   "outputs": [],
   "source": [
    "from sentence_transformers import SentenceTransformer\n",
    "sbert_model = SentenceTransformer('bert-base-nli-mean-tokens')"
   ]
  },
  {
   "cell_type": "code",
   "execution_count": 10,
   "metadata": {
    "colab": {
     "base_uri": "https://localhost:8080/"
    },
    "id": "03Stl7PyvQca",
    "outputId": "8127ab80-6d96-415a-b88a-56ef9c368243"
   },
   "outputs": [
    {
     "name": "stdout",
     "output_type": "stream",
     "text": [
      "<class 'pandas.core.frame.DataFrame'>\n",
      "Int64Index: 4910 entries, 0 to 4909\n",
      "Data columns (total 19 columns):\n",
      " #   Column             Non-Null Count  Dtype  \n",
      "---  ------             --------------  -----  \n",
      " 0   Job Title          4910 non-null   object \n",
      " 1   Company Name       4910 non-null   object \n",
      " 2   Industry           4910 non-null   object \n",
      " 3   Company Location   4910 non-null   object \n",
      " 4   New Job (90 Days)  4910 non-null   bool   \n",
      " 5   Year Started       4910 non-null   float64\n",
      " 6   Profile Headline   4910 non-null   object \n",
      " 7   Profile Summary    4910 non-null   object \n",
      " 8   School             4910 non-null   object \n",
      " 9   Degree             4910 non-null   object \n",
      " 10  Education End      4910 non-null   object \n",
      " 11  Field of Study     4910 non-null   object \n",
      " 12  Domain             4910 non-null   object \n",
      " 13  CompanyName        4910 non-null   object \n",
      " 14  JobTitle           4910 non-null   object \n",
      " 15  My Network         4910 non-null   object \n",
      " 16  Country            4910 non-null   object \n",
      " 17  Continent          4910 non-null   object \n",
      " 18  FieldOfStudy       4910 non-null   object \n",
      "dtypes: bool(1), float64(1), object(17)\n",
      "memory usage: 733.6+ KB\n"
     ]
    }
   ],
   "source": [
    "df.info()"
   ]
  },
  {
   "cell_type": "code",
   "execution_count": 11,
   "metadata": {
    "id": "dZ9tRFgrvEQR"
   },
   "outputs": [],
   "source": [
    "df1 = df.drop(['Job Title', 'Company Name', 'Field of Study'], axis = 1)"
   ]
  },
  {
   "cell_type": "code",
   "execution_count": 12,
   "metadata": {
    "colab": {
     "base_uri": "https://localhost:8080/"
    },
    "id": "WZHiqiaSKumS",
    "outputId": "758c5878-80ad-4534-82be-359e6c27c201"
   },
   "outputs": [],
   "source": [
    "for column in df1.columns:\n",
    "    if (column == 'New Job (90 Days)') or (column == 'Year Started'):\n",
    "        continue\n",
    "    new_col = column + \"_embedding\"\n",
    "    df1[new_col] = 0\n",
    "    df1[new_col] = sbert_model.encode(df1[column])"
   ]
  },
  {
   "cell_type": "code",
   "execution_count": 13,
   "metadata": {
    "id": "XnLVZZ7c0ZeZ"
   },
   "outputs": [],
   "source": [
    "path = 'After_BERT(Embedded_Data).csv'\n",
    "df1.to_csv(path)"
   ]
  }
 ],
 "metadata": {
  "colab": {
   "name": "BERT.ipynb",
   "provenance": []
  },
  "kernelspec": {
   "display_name": "Python 3",
   "language": "python",
   "name": "python3"
  },
  "language_info": {
   "codemirror_mode": {
    "name": "ipython",
    "version": 3
   },
   "file_extension": ".py",
   "mimetype": "text/x-python",
   "name": "python",
   "nbconvert_exporter": "python",
   "pygments_lexer": "ipython3",
   "version": "3.8.3"
  },
  "widgets": {
   "application/vnd.jupyter.widget-state+json": {
    "057fdb8d6eda40b0ba5bd1b120d22c3f": {
     "model_module": "@jupyter-widgets/controls",
     "model_name": "DescriptionStyleModel",
     "state": {
      "_model_module": "@jupyter-widgets/controls",
      "_model_module_version": "1.5.0",
      "_model_name": "DescriptionStyleModel",
      "_view_count": null,
      "_view_module": "@jupyter-widgets/base",
      "_view_module_version": "1.2.0",
      "_view_name": "StyleView",
      "description_width": ""
     }
    },
    "152fae227a5b49378ab9598054dcecc6": {
     "model_module": "@jupyter-widgets/controls",
     "model_name": "HTMLModel",
     "state": {
      "_dom_classes": [],
      "_model_module": "@jupyter-widgets/controls",
      "_model_module_version": "1.5.0",
      "_model_name": "HTMLModel",
      "_view_count": null,
      "_view_module": "@jupyter-widgets/controls",
      "_view_module_version": "1.5.0",
      "_view_name": "HTMLView",
      "description": "",
      "description_tooltip": null,
      "layout": "IPY_MODEL_5a50317b200d46d0a5e75487073dbccc",
      "placeholder": "​",
      "style": "IPY_MODEL_057fdb8d6eda40b0ba5bd1b120d22c3f",
      "value": " 405M/405M [00:15&lt;00:00, 26.1MB/s]"
     }
    },
    "2425d749fccf4a4dacdd71431b267eb7": {
     "model_module": "@jupyter-widgets/controls",
     "model_name": "ProgressStyleModel",
     "state": {
      "_model_module": "@jupyter-widgets/controls",
      "_model_module_version": "1.5.0",
      "_model_name": "ProgressStyleModel",
      "_view_count": null,
      "_view_module": "@jupyter-widgets/base",
      "_view_module_version": "1.2.0",
      "_view_name": "StyleView",
      "bar_color": null,
      "description_width": "initial"
     }
    },
    "5a50317b200d46d0a5e75487073dbccc": {
     "model_module": "@jupyter-widgets/base",
     "model_name": "LayoutModel",
     "state": {
      "_model_module": "@jupyter-widgets/base",
      "_model_module_version": "1.2.0",
      "_model_name": "LayoutModel",
      "_view_count": null,
      "_view_module": "@jupyter-widgets/base",
      "_view_module_version": "1.2.0",
      "_view_name": "LayoutView",
      "align_content": null,
      "align_items": null,
      "align_self": null,
      "border": null,
      "bottom": null,
      "display": null,
      "flex": null,
      "flex_flow": null,
      "grid_area": null,
      "grid_auto_columns": null,
      "grid_auto_flow": null,
      "grid_auto_rows": null,
      "grid_column": null,
      "grid_gap": null,
      "grid_row": null,
      "grid_template_areas": null,
      "grid_template_columns": null,
      "grid_template_rows": null,
      "height": null,
      "justify_content": null,
      "justify_items": null,
      "left": null,
      "margin": null,
      "max_height": null,
      "max_width": null,
      "min_height": null,
      "min_width": null,
      "object_fit": null,
      "object_position": null,
      "order": null,
      "overflow": null,
      "overflow_x": null,
      "overflow_y": null,
      "padding": null,
      "right": null,
      "top": null,
      "visibility": null,
      "width": null
     }
    },
    "5f85845aaa5c41509864b8eb73501ece": {
     "model_module": "@jupyter-widgets/controls",
     "model_name": "HBoxModel",
     "state": {
      "_dom_classes": [],
      "_model_module": "@jupyter-widgets/controls",
      "_model_module_version": "1.5.0",
      "_model_name": "HBoxModel",
      "_view_count": null,
      "_view_module": "@jupyter-widgets/controls",
      "_view_module_version": "1.5.0",
      "_view_name": "HBoxView",
      "box_style": "",
      "children": [
       "IPY_MODEL_c484f854efe44de088d104407313d118",
       "IPY_MODEL_152fae227a5b49378ab9598054dcecc6"
      ],
      "layout": "IPY_MODEL_f3f5f0cd89b54b2292c125188a1e2260"
     }
    },
    "c3e023777df544aabc086cfa06eb2674": {
     "model_module": "@jupyter-widgets/base",
     "model_name": "LayoutModel",
     "state": {
      "_model_module": "@jupyter-widgets/base",
      "_model_module_version": "1.2.0",
      "_model_name": "LayoutModel",
      "_view_count": null,
      "_view_module": "@jupyter-widgets/base",
      "_view_module_version": "1.2.0",
      "_view_name": "LayoutView",
      "align_content": null,
      "align_items": null,
      "align_self": null,
      "border": null,
      "bottom": null,
      "display": null,
      "flex": null,
      "flex_flow": null,
      "grid_area": null,
      "grid_auto_columns": null,
      "grid_auto_flow": null,
      "grid_auto_rows": null,
      "grid_column": null,
      "grid_gap": null,
      "grid_row": null,
      "grid_template_areas": null,
      "grid_template_columns": null,
      "grid_template_rows": null,
      "height": null,
      "justify_content": null,
      "justify_items": null,
      "left": null,
      "margin": null,
      "max_height": null,
      "max_width": null,
      "min_height": null,
      "min_width": null,
      "object_fit": null,
      "object_position": null,
      "order": null,
      "overflow": null,
      "overflow_x": null,
      "overflow_y": null,
      "padding": null,
      "right": null,
      "top": null,
      "visibility": null,
      "width": null
     }
    },
    "c484f854efe44de088d104407313d118": {
     "model_module": "@jupyter-widgets/controls",
     "model_name": "FloatProgressModel",
     "state": {
      "_dom_classes": [],
      "_model_module": "@jupyter-widgets/controls",
      "_model_module_version": "1.5.0",
      "_model_name": "FloatProgressModel",
      "_view_count": null,
      "_view_module": "@jupyter-widgets/controls",
      "_view_module_version": "1.5.0",
      "_view_name": "ProgressView",
      "bar_style": "success",
      "description": "100%",
      "description_tooltip": null,
      "layout": "IPY_MODEL_c3e023777df544aabc086cfa06eb2674",
      "max": 405234788,
      "min": 0,
      "orientation": "horizontal",
      "style": "IPY_MODEL_2425d749fccf4a4dacdd71431b267eb7",
      "value": 405234788
     }
    },
    "f3f5f0cd89b54b2292c125188a1e2260": {
     "model_module": "@jupyter-widgets/base",
     "model_name": "LayoutModel",
     "state": {
      "_model_module": "@jupyter-widgets/base",
      "_model_module_version": "1.2.0",
      "_model_name": "LayoutModel",
      "_view_count": null,
      "_view_module": "@jupyter-widgets/base",
      "_view_module_version": "1.2.0",
      "_view_name": "LayoutView",
      "align_content": null,
      "align_items": null,
      "align_self": null,
      "border": null,
      "bottom": null,
      "display": null,
      "flex": null,
      "flex_flow": null,
      "grid_area": null,
      "grid_auto_columns": null,
      "grid_auto_flow": null,
      "grid_auto_rows": null,
      "grid_column": null,
      "grid_gap": null,
      "grid_row": null,
      "grid_template_areas": null,
      "grid_template_columns": null,
      "grid_template_rows": null,
      "height": null,
      "justify_content": null,
      "justify_items": null,
      "left": null,
      "margin": null,
      "max_height": null,
      "max_width": null,
      "min_height": null,
      "min_width": null,
      "object_fit": null,
      "object_position": null,
      "order": null,
      "overflow": null,
      "overflow_x": null,
      "overflow_y": null,
      "padding": null,
      "right": null,
      "top": null,
      "visibility": null,
      "width": null
     }
    }
   }
  }
 },
 "nbformat": 4,
 "nbformat_minor": 1
}
