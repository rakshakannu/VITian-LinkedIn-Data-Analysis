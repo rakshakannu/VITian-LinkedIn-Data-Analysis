{
 "cells": [
  {
   "cell_type": "markdown",
   "metadata": {},
   "source": [
    "# Getting Coordinates"
   ]
  },
  {
   "cell_type": "code",
   "execution_count": 1,
   "metadata": {},
   "outputs": [],
   "source": [
    "import pandas as pd"
   ]
  },
  {
   "cell_type": "code",
   "execution_count": 2,
   "metadata": {},
   "outputs": [],
   "source": [
    "path = 'Before_BERT(Preprocessed).csv'\n",
    "df = pd.read_csv(path, index_col = 0, keep_default_na=False)"
   ]
  },
  {
   "cell_type": "code",
   "execution_count": 3,
   "metadata": {},
   "outputs": [
    {
     "name": "stdout",
     "output_type": "stream",
     "text": [
      "Requirement already satisfied: geopy in c:\\users\\hp\\anaconda3\\lib\\site-packages (2.1.0)\n",
      "Requirement already satisfied: geographiclib<2,>=1.49 in c:\\users\\hp\\anaconda3\\lib\\site-packages (from geopy) (1.50)\n",
      "Requirement already satisfied: Nominatim in c:\\users\\hp\\anaconda3\\lib\\site-packages (0.1)\n"
     ]
    }
   ],
   "source": [
    "! pip install geopy \n",
    "! pip install Nominatim"
   ]
  },
  {
   "cell_type": "code",
   "execution_count": 4,
   "metadata": {},
   "outputs": [],
   "source": [
    "from geopy.geocoders import Nominatim"
   ]
  },
  {
   "cell_type": "code",
   "execution_count": 5,
   "metadata": {},
   "outputs": [
    {
     "data": {
      "text/plain": [
       "Index(['Job Title', 'Company Name', 'Industry', 'Company Location',\n",
       "       'New Job (90 Days)', 'Year Started', 'Profile Headline',\n",
       "       'Profile Summary', 'School', 'Degree', 'Education End',\n",
       "       'Field of Study', 'Domain', 'CompanyName', 'JobTitle', 'My Network',\n",
       "       'Country', 'Continent', 'FieldOfStudy'],\n",
       "      dtype='object')"
      ]
     },
     "execution_count": 5,
     "metadata": {},
     "output_type": "execute_result"
    }
   ],
   "source": [
    "df.columns"
   ]
  },
  {
   "cell_type": "code",
   "execution_count": 6,
   "metadata": {},
   "outputs": [],
   "source": [
    "x = df['Company Location'].iloc[0]"
   ]
  },
  {
   "cell_type": "code",
   "execution_count": 7,
   "metadata": {
    "scrolled": false
   },
   "outputs": [
    {
     "name": "stdout",
     "output_type": "stream",
     "text": [
      "Dublin, Ohio, United States\n",
      "Dublin, Franklin County, Ohio, United States\n",
      "(40.0992294, -83.1140771)\n"
     ]
    }
   ],
   "source": [
    "from geopy.geocoders import Nominatim\n",
    "\n",
    "address=x\n",
    "geolocator = Nominatim(user_agent=\"immansi@gmail.com\")\n",
    "location = geolocator.geocode(address)\n",
    "print(x)\n",
    "print(location.address)\n",
    "print((location.latitude, location.longitude))"
   ]
  },
  {
   "cell_type": "code",
   "execution_count": 8,
   "metadata": {},
   "outputs": [],
   "source": [
    "df['latitude'] = 0\n",
    "df['longitude'] = 0\n"
   ]
  },
  {
   "cell_type": "code",
   "execution_count": 9,
   "metadata": {},
   "outputs": [
    {
     "name": "stderr",
     "output_type": "stream",
     "text": [
      "C:\\Users\\HP\\anaconda3\\lib\\site-packages\\pandas\\core\\indexing.py:670: SettingWithCopyWarning: \n",
      "A value is trying to be set on a copy of a slice from a DataFrame\n",
      "\n",
      "See the caveats in the documentation: https://pandas.pydata.org/pandas-docs/stable/user_guide/indexing.html#returning-a-view-versus-a-copy\n",
      "  iloc._setitem_with_indexer(indexer, value)\n"
     ]
    },
    {
     "name": "stdout",
     "output_type": "stream",
     "text": [
      "44 Greater Paris Metropolitan Region\n",
      "161 Brabantine City Row\n",
      "231 Mumbai Suburban district, Maharashtra, India\n",
      "355 Ganderbal, Jammu & Kashmir (Union Territory), India\n",
      "453 Mumbai Suburban district, Maharashtra, India\n",
      "723 Dallas-Fort Worth Metroplex\n",
      "731 Dallas-Fort Worth Metroplex\n",
      "777 Greater Paris Metropolitan Region\n",
      "794 Gothenburg Metropolitan Area\n",
      "1028 Mumbai Suburban district, Maharashtra, India\n",
      "1094 Mumbai Suburban district, Maharashtra, India\n",
      "1095 Greater Paris Metropolitan Region\n",
      "1144 Mumbai Suburban district, Maharashtra, India\n",
      "1357 Midnapore Sadar, West Bengal, India\n",
      "1366 Greater Kassel Area\n",
      "1407 Greater Barcelona Metropolitan Area\n",
      "1432 Greater Barcelona Metropolitan Area\n",
      "1487 Mumbai Suburban district, Maharashtra, India\n",
      "1495 Mumbai Suburban district, Maharashtra, India\n",
      "1540 Chatra district, Jharkhand, India\n",
      "1556 Udhampur, Jammu & Kashmir (Union Territory), India\n",
      "1594 Greater Toulouse Metropolitan Area\n",
      "1700 Ganderbal, Jammu & Kashmir (Union Territory), India\n",
      "1852 Greater Bristol Area, United Kingdom\n",
      "1918 Gothenburg Metropolitan Area\n",
      "2180 Greenville-Spartanburg-Anderson, South Carolina Area\n",
      "2190 Jammu & Kashmir (Union Territory), India\n",
      "2209 Sri Potti Sri Ramulu Nellore, Andhra Pradesh, India\n",
      "2214 Greater Toulouse Metropolitan Area\n",
      "2307 Mumbai Suburban district, Maharashtra, India\n",
      "2373 Ganderbal, Jammu & Kashmir (Union Territory), India\n",
      "2564 Greater Syracuse-Auburn Area\n",
      "2582 Mumbai Suburban district, Maharashtra, India\n",
      "2605 Greater Bristol Area, United Kingdom\n",
      "2730 Gothenburg Metropolitan Area\n",
      "2746 Greater Barcelona Metropolitan Area\n",
      "2972 Mumbai Suburban district, Maharashtra, India\n",
      "3031 Dallas-Fort Worth Metroplex\n",
      "3117 Mumbai Suburban district, Maharashtra, India\n",
      "3235 Vishakhapatnam, Andhra Pradesh, India\n",
      "3268 Mumbai Suburban district, Maharashtra, India\n",
      "3313 Mumbai Suburban district, Maharashtra, India\n",
      "3318 Mumbai Suburban district, Maharashtra, India\n",
      "3420 Mumbai Suburban district, Maharashtra, India\n",
      "3569 Greater Tampa Bay Area\n",
      "3641 Mumbai Suburban district, Maharashtra, India\n",
      "3664 Greater Minneapolis-St. Paul Area\n",
      "3696 Greater Munich Metropolitan Area\n",
      "3736 Dallas-Fort Worth Metroplex\n",
      "3836 Greater Paris Metropolitan Region\n",
      "3856 Dallas-Fort Worth Metroplex\n",
      "3894 Dallas-Fort Worth Metroplex\n",
      "3952 Mumbai Suburban district, Maharashtra, India\n",
      "3982 Greater Munich Metropolitan Area\n",
      "4000 Greater Munich Metropolitan Area\n",
      "4048 Dallas-Fort Worth Metroplex\n",
      "4060 Jammu, Jammu & Kashmir (Union Territory), India\n",
      "4071 Greater Edmonton Metropolitan Area\n",
      "4078 Greater Munich Metropolitan Area\n",
      "4117 Frankfurt Rhine-Main Metropolitan Area\n",
      "4153 Greater Minneapolis-St. Paul Area\n",
      "4161 Gothenburg Metropolitan Area\n",
      "4298 Greater Munich Metropolitan Area\n",
      "4322 Greater Bordeaux Metropolitan Area\n",
      "4505 Greater Munich Metropolitan Area\n",
      "4512 Greater Pittsburgh Region\n",
      "4529 Greater Munich Metropolitan Area\n",
      "4536 Greater Pittsburgh Region\n",
      "4567 Mumbai Suburban district, Maharashtra, India\n",
      "4675 Greater Minneapolis-St. Paul Area\n",
      "4725 Brande, Middle Jutland, Denmark\n"
     ]
    }
   ],
   "source": [
    "import time\n",
    "\n",
    "total_length = len(df['Company Location'])\n",
    "query_start = 0\n",
    "query_end = 50\n",
    "\n",
    "latitude = []\n",
    "longitude = []\n",
    "exceptions = []\n",
    "\n",
    "i=0\n",
    "for idx, addr in enumerate(df['Company Location']):\n",
    "    i+=1\n",
    "    geolocator = Nominatim(user_agent=\"ram\")\n",
    "    location  = geolocator.geocode(addr, timeout=100, language = 'en')\n",
    "    try:\n",
    "        df['latitude'].iloc[idx] = location.latitude\n",
    "        df['longitude'].iloc[idx] = location.longitude \n",
    "    except:\n",
    "        print(idx, addr)\n",
    "        exceptions.append(idx)\n",
    "    if i%50 == 0:\n",
    "        time.sleep(1)"
   ]
  },
  {
   "cell_type": "code",
   "execution_count": 10,
   "metadata": {},
   "outputs": [],
   "source": [
    "from geopy.geocoders import Nominatim\n",
    "geolocator = Nominatim(user_agent=\"my_user_agent\") \n",
    "for idx in exceptions:\n",
    "    addr = df.iloc[idx]['Company Location'].split()\n",
    "    for word in addr:\n",
    "        if word == \"Greater\" or word == \"City\" or word==\"Row\":\n",
    "            continue\n",
    "        loc = geolocator.geocode(word)\n",
    "        if loc is None:\n",
    "            continue\n",
    "        else:\n",
    "            df['latitude'].iloc[idx] = location.latitude\n",
    "            df['longitude'].iloc[idx] = location.longitude \n",
    "            break"
   ]
  },
  {
   "cell_type": "code",
   "execution_count": 11,
   "metadata": {},
   "outputs": [],
   "source": [
    "coords = df[['latitude', 'longitude']]"
   ]
  },
  {
   "cell_type": "code",
   "execution_count": 12,
   "metadata": {},
   "outputs": [],
   "source": [
    "coords.to_csv('Coordinates.csv', index = False)"
   ]
  }
 ],
 "metadata": {
  "kernelspec": {
   "display_name": "Python 3",
   "language": "python",
   "name": "python3"
  },
  "language_info": {
   "codemirror_mode": {
    "name": "ipython",
    "version": 3
   },
   "file_extension": ".py",
   "mimetype": "text/x-python",
   "name": "python",
   "nbconvert_exporter": "python",
   "pygments_lexer": "ipython3",
   "version": "3.8.3"
  }
 },
 "nbformat": 4,
 "nbformat_minor": 4
}
