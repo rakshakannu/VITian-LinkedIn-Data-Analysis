{
 "cells": [
  {
   "cell_type": "markdown",
   "metadata": {
    "id": "M2h5DCTNN9rM"
   },
   "source": [
    "# **ML Model for Domian classifications based on profile summary and profile headline**"
   ]
  },
  {
   "cell_type": "code",
   "execution_count": 2,
   "metadata": {
    "id": "yOUM1gCCubZL"
   },
   "outputs": [],
   "source": [
    "import pandas as pd\n",
    "import re\n",
    "from sklearn.feature_selection import chi2\n",
    "import numpy as np\n",
    "import matplotlib.pyplot as plt\n",
    "import string\n",
    "import nltk\n",
    "from nltk.corpus import stopwords\n",
    "from nltk.tokenize import word_tokenize\n",
    "from sklearn.feature_extraction.text import TfidfVectorizer\n",
    "from sklearn.model_selection import train_test_split\n",
    "from sklearn.feature_extraction.text import CountVectorizer\n",
    "from sklearn.feature_extraction.text import TfidfTransformer\n",
    "from sklearn.naive_bayes import MultinomialNB\n",
    "from sklearn.metrics import accuracy_score\n",
    "from sklearn.svm import SVC\n",
    "from sklearn.neighbors import KNeighborsClassifier\n",
    "from sklearn.naive_bayes import GaussianNB\n",
    "from sklearn.ensemble import RandomForestClassifier as rm\n",
    "from sklearn.tree import DecisionTreeClassifier \n",
    "from sklearn.linear_model import SGDClassifier\n",
    "from sklearn.neural_network import MLPClassifier\n",
    "from sklearn.gaussian_process import GaussianProcessClassifier\n",
    "from sklearn.linear_model import LogisticRegression\n",
    "from sklearn.ensemble import RandomForestClassifier\n",
    "from sklearn.svm import LinearSVC\n",
    "from sklearn.model_selection import cross_val_score\n",
    "from sklearn.model_selection import StratifiedKFold\n",
    "import warnings \n",
    "warnings.filterwarnings(\"ignore\")"
   ]
  },
  {
   "cell_type": "code",
   "execution_count": 5,
   "metadata": {},
   "outputs": [],
   "source": [
    "df1 = pd.read_csv('Before_BERT(Preprocessed).csv')"
   ]
  },
  {
   "cell_type": "code",
   "execution_count": 6,
   "metadata": {
    "id": "qTwrqsiGOisa"
   },
   "outputs": [],
   "source": [
    "df1['ProfileHeadline'] = df1['Profile Headline']\n",
    "df1['ProfileSummary'] = df1['Profile Summary']"
   ]
  },
  {
   "cell_type": "code",
   "execution_count": 7,
   "metadata": {},
   "outputs": [
    {
     "data": {
      "text/plain": [
       "False    3465\n",
       "True     1445\n",
       "Name: ProfileSummary, dtype: int64"
      ]
     },
     "execution_count": 7,
     "metadata": {},
     "output_type": "execute_result"
    }
   ],
   "source": [
    "df1['ProfileSummary'].isnull().value_counts()"
   ]
  },
  {
   "cell_type": "code",
   "execution_count": 8,
   "metadata": {
    "id": "Cq0DTBPwOioo"
   },
   "outputs": [],
   "source": [
    "df1.ProfileHeadline = df1.ProfileHeadline.fillna(' ')\n",
    "df1.ProfileSummary = df1.ProfileSummary.fillna(' ')"
   ]
  },
  {
   "cell_type": "code",
   "execution_count": 9,
   "metadata": {
    "colab": {
     "base_uri": "https://localhost:8080/",
     "height": 617
    },
    "id": "8OueBcBFOimh",
    "outputId": "0c6f3d28-56ff-460e-8a4a-ccb3cef67121"
   },
   "outputs": [
    {
     "data": {
      "text/html": [
       "<div>\n",
       "<style scoped>\n",
       "    .dataframe tbody tr th:only-of-type {\n",
       "        vertical-align: middle;\n",
       "    }\n",
       "\n",
       "    .dataframe tbody tr th {\n",
       "        vertical-align: top;\n",
       "    }\n",
       "\n",
       "    .dataframe thead th {\n",
       "        text-align: right;\n",
       "    }\n",
       "</style>\n",
       "<table border=\"1\" class=\"dataframe\">\n",
       "  <thead>\n",
       "    <tr style=\"text-align: right;\">\n",
       "      <th></th>\n",
       "      <th>Unnamed: 0</th>\n",
       "      <th>Job Title</th>\n",
       "      <th>Company Name</th>\n",
       "      <th>Industry</th>\n",
       "      <th>Company Location</th>\n",
       "      <th>New Job (90 Days)</th>\n",
       "      <th>Year Started</th>\n",
       "      <th>Profile Headline</th>\n",
       "      <th>Profile Summary</th>\n",
       "      <th>School</th>\n",
       "      <th>...</th>\n",
       "      <th>Domain</th>\n",
       "      <th>CompanyName</th>\n",
       "      <th>JobTitle</th>\n",
       "      <th>My Network</th>\n",
       "      <th>Country</th>\n",
       "      <th>Continent</th>\n",
       "      <th>FieldOfStudy</th>\n",
       "      <th>ProfileHeadline</th>\n",
       "      <th>ProfileSummary</th>\n",
       "      <th>total</th>\n",
       "    </tr>\n",
       "  </thead>\n",
       "  <tbody>\n",
       "    <tr>\n",
       "      <th>0</th>\n",
       "      <td>0</td>\n",
       "      <td>Battery Designer</td>\n",
       "      <td>Rivian</td>\n",
       "      <td>Mechanical or Industrial Engineering</td>\n",
       "      <td>Dublin, Ohio, United States</td>\n",
       "      <td>False</td>\n",
       "      <td>2020.0</td>\n",
       "      <td>Mechanical Design Engineer, System Integration...</td>\n",
       "      <td>In the ever-growing technological world where ...</td>\n",
       "      <td>Chalmers University of Technology</td>\n",
       "      <td>...</td>\n",
       "      <td>Arts and Design</td>\n",
       "      <td>Rivian</td>\n",
       "      <td>Designer</td>\n",
       "      <td>network</td>\n",
       "      <td>United States</td>\n",
       "      <td>NaN</td>\n",
       "      <td>Electrical, Electronics and Communication Engi...</td>\n",
       "      <td>Mechanical Design Engineer, System Integration...</td>\n",
       "      <td>In the ever-growing technological world where ...</td>\n",
       "      <td>Mechanical Design Engineer, System Integration...</td>\n",
       "    </tr>\n",
       "    <tr>\n",
       "      <th>1</th>\n",
       "      <td>1</td>\n",
       "      <td>Digital DevOps Engineer</td>\n",
       "      <td>HSBC</td>\n",
       "      <td>Information Technology and Services</td>\n",
       "      <td>New York City Metropolitan Area</td>\n",
       "      <td>False</td>\n",
       "      <td>2018.0</td>\n",
       "      <td>Digital DevOps Engineer at HSBC</td>\n",
       "      <td>AWS Certified Cloud Engineer holding 3 AWS Ass...</td>\n",
       "      <td>Binghamton University</td>\n",
       "      <td>...</td>\n",
       "      <td>Arts and Design</td>\n",
       "      <td>HSBC</td>\n",
       "      <td>developer</td>\n",
       "      <td>network</td>\n",
       "      <td>United States</td>\n",
       "      <td>NaN</td>\n",
       "      <td>Computer Science</td>\n",
       "      <td>Digital DevOps Engineer at HSBC</td>\n",
       "      <td>AWS Certified Cloud Engineer holding 3 AWS Ass...</td>\n",
       "      <td>Digital DevOps Engineer at HSBC AWS Certified ...</td>\n",
       "    </tr>\n",
       "    <tr>\n",
       "      <th>2</th>\n",
       "      <td>2</td>\n",
       "      <td>Product Designer</td>\n",
       "      <td>Two Point Conversions, Inc.</td>\n",
       "      <td>Information Technology and Services</td>\n",
       "      <td>Chicago, Illinois, United States</td>\n",
       "      <td>False</td>\n",
       "      <td>2018.0</td>\n",
       "      <td>Leading Product + UX at Remedy (Two Point Conv...</td>\n",
       "      <td>http://aroonmathai.com</td>\n",
       "      <td>Carnegie Mellon University</td>\n",
       "      <td>...</td>\n",
       "      <td>Arts and Design</td>\n",
       "      <td>Two Point Conversions, Inc.</td>\n",
       "      <td>Designer</td>\n",
       "      <td>network</td>\n",
       "      <td>United States</td>\n",
       "      <td>NaN</td>\n",
       "      <td>Computer Science</td>\n",
       "      <td>Leading Product + UX at Remedy (Two Point Conv...</td>\n",
       "      <td>http://aroonmathai.com</td>\n",
       "      <td>Leading Product + UX at Remedy (Two Point Conv...</td>\n",
       "    </tr>\n",
       "    <tr>\n",
       "      <th>3</th>\n",
       "      <td>3</td>\n",
       "      <td>Product Designer</td>\n",
       "      <td>udaan.com</td>\n",
       "      <td>Information Technology and Services</td>\n",
       "      <td>Bangalore Urban, Karnataka, India</td>\n",
       "      <td>False</td>\n",
       "      <td>2018.0</td>\n",
       "      <td>Product Designer at udaan</td>\n",
       "      <td>NaN</td>\n",
       "      <td>Vellore Institute of Technology</td>\n",
       "      <td>...</td>\n",
       "      <td>Arts and Design</td>\n",
       "      <td>udaan.com</td>\n",
       "      <td>Designer</td>\n",
       "      <td>network</td>\n",
       "      <td>India</td>\n",
       "      <td>AS</td>\n",
       "      <td>Computer Science</td>\n",
       "      <td>Product Designer at udaan</td>\n",
       "      <td></td>\n",
       "      <td>Product Designer at udaan</td>\n",
       "    </tr>\n",
       "    <tr>\n",
       "      <th>4</th>\n",
       "      <td>4</td>\n",
       "      <td>Digital Technology Intern</td>\n",
       "      <td>GE</td>\n",
       "      <td>Information Technology and Services</td>\n",
       "      <td>Jaipur, Rajasthan, India</td>\n",
       "      <td>True</td>\n",
       "      <td>2021.0</td>\n",
       "      <td>Digital Technology Intern at General Electric ...</td>\n",
       "      <td>NaN</td>\n",
       "      <td>Vellore Institute of Technology</td>\n",
       "      <td>...</td>\n",
       "      <td>Arts and Design</td>\n",
       "      <td>GE</td>\n",
       "      <td>Intern</td>\n",
       "      <td>network</td>\n",
       "      <td>India</td>\n",
       "      <td>AS</td>\n",
       "      <td>Computer Science</td>\n",
       "      <td>Digital Technology Intern at General Electric ...</td>\n",
       "      <td></td>\n",
       "      <td>Digital Technology Intern at General Electric ...</td>\n",
       "    </tr>\n",
       "  </tbody>\n",
       "</table>\n",
       "<p>5 rows × 23 columns</p>\n",
       "</div>"
      ],
      "text/plain": [
       "   Unnamed: 0                  Job Title                 Company Name  \\\n",
       "0           0           Battery Designer                       Rivian   \n",
       "1           1    Digital DevOps Engineer                         HSBC   \n",
       "2           2           Product Designer  Two Point Conversions, Inc.   \n",
       "3           3           Product Designer                    udaan.com   \n",
       "4           4  Digital Technology Intern                           GE   \n",
       "\n",
       "                               Industry                   Company Location  \\\n",
       "0  Mechanical or Industrial Engineering        Dublin, Ohio, United States   \n",
       "1   Information Technology and Services    New York City Metropolitan Area   \n",
       "2   Information Technology and Services   Chicago, Illinois, United States   \n",
       "3   Information Technology and Services  Bangalore Urban, Karnataka, India   \n",
       "4   Information Technology and Services           Jaipur, Rajasthan, India   \n",
       "\n",
       "   New Job (90 Days)  Year Started  \\\n",
       "0              False        2020.0   \n",
       "1              False        2018.0   \n",
       "2              False        2018.0   \n",
       "3              False        2018.0   \n",
       "4               True        2021.0   \n",
       "\n",
       "                                    Profile Headline  \\\n",
       "0  Mechanical Design Engineer, System Integration...   \n",
       "1                    Digital DevOps Engineer at HSBC   \n",
       "2  Leading Product + UX at Remedy (Two Point Conv...   \n",
       "3                          Product Designer at udaan   \n",
       "4  Digital Technology Intern at General Electric ...   \n",
       "\n",
       "                                     Profile Summary  \\\n",
       "0  In the ever-growing technological world where ...   \n",
       "1  AWS Certified Cloud Engineer holding 3 AWS Ass...   \n",
       "2                             http://aroonmathai.com   \n",
       "3                                                NaN   \n",
       "4                                                NaN   \n",
       "\n",
       "                              School  ...           Domain  \\\n",
       "0  Chalmers University of Technology  ...  Arts and Design   \n",
       "1              Binghamton University  ...  Arts and Design   \n",
       "2         Carnegie Mellon University  ...  Arts and Design   \n",
       "3    Vellore Institute of Technology  ...  Arts and Design   \n",
       "4    Vellore Institute of Technology  ...  Arts and Design   \n",
       "\n",
       "                   CompanyName   JobTitle My Network        Country Continent  \\\n",
       "0                       Rivian   Designer    network  United States       NaN   \n",
       "1                         HSBC  developer    network  United States       NaN   \n",
       "2  Two Point Conversions, Inc.   Designer    network  United States       NaN   \n",
       "3                    udaan.com   Designer    network          India        AS   \n",
       "4                           GE     Intern    network          India        AS   \n",
       "\n",
       "                                        FieldOfStudy  \\\n",
       "0  Electrical, Electronics and Communication Engi...   \n",
       "1                                   Computer Science   \n",
       "2                                   Computer Science   \n",
       "3                                   Computer Science   \n",
       "4                                   Computer Science   \n",
       "\n",
       "                                     ProfileHeadline  \\\n",
       "0  Mechanical Design Engineer, System Integration...   \n",
       "1                    Digital DevOps Engineer at HSBC   \n",
       "2  Leading Product + UX at Remedy (Two Point Conv...   \n",
       "3                          Product Designer at udaan   \n",
       "4  Digital Technology Intern at General Electric ...   \n",
       "\n",
       "                                      ProfileSummary  \\\n",
       "0  In the ever-growing technological world where ...   \n",
       "1  AWS Certified Cloud Engineer holding 3 AWS Ass...   \n",
       "2                             http://aroonmathai.com   \n",
       "3                                                      \n",
       "4                                                      \n",
       "\n",
       "                                               total  \n",
       "0  Mechanical Design Engineer, System Integration...  \n",
       "1  Digital DevOps Engineer at HSBC AWS Certified ...  \n",
       "2  Leading Product + UX at Remedy (Two Point Conv...  \n",
       "3                        Product Designer at udaan    \n",
       "4  Digital Technology Intern at General Electric ...  \n",
       "\n",
       "[5 rows x 23 columns]"
      ]
     },
     "execution_count": 9,
     "metadata": {},
     "output_type": "execute_result"
    }
   ],
   "source": [
    "#df1['total'] = df1['ProfileSummary']\n",
    "df1['total'] = df1['ProfileHeadline'].str.cat(df1['ProfileSummary'],sep=\" \")\n",
    "df1.head()"
   ]
  },
  {
   "cell_type": "code",
   "execution_count": 10,
   "metadata": {},
   "outputs": [],
   "source": [
    "df1['total']=df1['total'].astype(str)"
   ]
  },
  {
   "cell_type": "code",
   "execution_count": 11,
   "metadata": {
    "id": "DP59fm9POigp"
   },
   "outputs": [],
   "source": [
    "df1['job_category'] = df1['Domain'].str.lower()"
   ]
  },
  {
   "cell_type": "code",
   "execution_count": 12,
   "metadata": {
    "id": "ukuu5RudOidd"
   },
   "outputs": [],
   "source": [
    "# helper function to clean the text in the data\n",
    "def preprocess_text(text):\n",
    "    text.lower()\n",
    "    # Remove urls\n",
    "    text = re.sub(r\"http\\S+|www\\S+|https\\S+\", '', text, flags=re.MULTILINE)\n",
    "    # Remove user @ references and '#' from text\n",
    "    text = re.sub(r'\\@\\w+|\\#','', text)\n",
    "    # Remove punctuations\n",
    "    text = text.translate(str.maketrans('', '', string.punctuation))\n",
    "    # Remove stopwords\n",
    "    text_tokens = word_tokenize(text)\n",
    "    filtered_words = [w for w in text_tokens if not w in stop_words]\n",
    "    return \" \".join(filtered_words).lower()"
   ]
  },
  {
   "cell_type": "code",
   "execution_count": 13,
   "metadata": {
    "colab": {
     "base_uri": "https://localhost:8080/",
     "height": 124
    },
    "id": "oTBCFL5rOiai",
    "outputId": "3d9513af-3a62-4b45-9e5b-755cab3a2b8b"
   },
   "outputs": [
    {
     "data": {
      "text/plain": [
       "'Leading Product + UX at Remedy (Two Point Conversions, Inc.) http://aroonmathai.com'"
      ]
     },
     "execution_count": 13,
     "metadata": {},
     "output_type": "execute_result"
    }
   ],
   "source": [
    "df1['total'][2]"
   ]
  },
  {
   "cell_type": "code",
   "execution_count": 14,
   "metadata": {
    "colab": {
     "base_uri": "https://localhost:8080/",
     "height": 1000
    },
    "id": "Ycq5ukPqPzQ0",
    "outputId": "3bbb8efe-ed18-4cfd-ed0c-618017be73f4"
   },
   "outputs": [],
   "source": [
    "stop_words = stopwords.words('english')"
   ]
  },
  {
   "cell_type": "code",
   "execution_count": 15,
   "metadata": {},
   "outputs": [],
   "source": [
    "# import nltk\n",
    "# nltk.download('stopwords')"
   ]
  },
  {
   "cell_type": "code",
   "execution_count": 16,
   "metadata": {
    "id": "-SUuLZ0gP1la"
   },
   "outputs": [
    {
     "data": {
      "text/plain": [
       "'leading product ux remedy two point conversions inc'"
      ]
     },
     "execution_count": 16,
     "metadata": {},
     "output_type": "execute_result"
    }
   ],
   "source": [
    "df1['preprocessed'] = df1['total'].apply(preprocess_text)\n",
    "df1['preprocessed'][2]"
   ]
  },
  {
   "cell_type": "code",
   "execution_count": 17,
   "metadata": {
    "id": "L9KNzYTOQFs6"
   },
   "outputs": [
    {
     "data": {
      "text/html": [
       "<div>\n",
       "<style scoped>\n",
       "    .dataframe tbody tr th:only-of-type {\n",
       "        vertical-align: middle;\n",
       "    }\n",
       "\n",
       "    .dataframe tbody tr th {\n",
       "        vertical-align: top;\n",
       "    }\n",
       "\n",
       "    .dataframe thead th {\n",
       "        text-align: right;\n",
       "    }\n",
       "</style>\n",
       "<table border=\"1\" class=\"dataframe\">\n",
       "  <thead>\n",
       "    <tr style=\"text-align: right;\">\n",
       "      <th></th>\n",
       "      <th>Unnamed: 0</th>\n",
       "      <th>Job Title</th>\n",
       "      <th>Company Name</th>\n",
       "      <th>Industry</th>\n",
       "      <th>Company Location</th>\n",
       "      <th>New Job (90 Days)</th>\n",
       "      <th>Year Started</th>\n",
       "      <th>Profile Headline</th>\n",
       "      <th>Profile Summary</th>\n",
       "      <th>School</th>\n",
       "      <th>...</th>\n",
       "      <th>My Network</th>\n",
       "      <th>Country</th>\n",
       "      <th>Continent</th>\n",
       "      <th>FieldOfStudy</th>\n",
       "      <th>ProfileHeadline</th>\n",
       "      <th>ProfileSummary</th>\n",
       "      <th>total</th>\n",
       "      <th>job_category</th>\n",
       "      <th>preprocessed</th>\n",
       "      <th>category_id</th>\n",
       "    </tr>\n",
       "  </thead>\n",
       "  <tbody>\n",
       "    <tr>\n",
       "      <th>0</th>\n",
       "      <td>0</td>\n",
       "      <td>Battery Designer</td>\n",
       "      <td>Rivian</td>\n",
       "      <td>Mechanical or Industrial Engineering</td>\n",
       "      <td>Dublin, Ohio, United States</td>\n",
       "      <td>False</td>\n",
       "      <td>2020.0</td>\n",
       "      <td>Mechanical Design Engineer, System Integration...</td>\n",
       "      <td>In the ever-growing technological world where ...</td>\n",
       "      <td>Chalmers University of Technology</td>\n",
       "      <td>...</td>\n",
       "      <td>network</td>\n",
       "      <td>United States</td>\n",
       "      <td>NaN</td>\n",
       "      <td>Electrical, Electronics and Communication Engi...</td>\n",
       "      <td>Mechanical Design Engineer, System Integration...</td>\n",
       "      <td>In the ever-growing technological world where ...</td>\n",
       "      <td>Mechanical Design Engineer, System Integration...</td>\n",
       "      <td>arts and design</td>\n",
       "      <td>mechanical design engineer system integration ...</td>\n",
       "      <td>0</td>\n",
       "    </tr>\n",
       "    <tr>\n",
       "      <th>1</th>\n",
       "      <td>1</td>\n",
       "      <td>Digital DevOps Engineer</td>\n",
       "      <td>HSBC</td>\n",
       "      <td>Information Technology and Services</td>\n",
       "      <td>New York City Metropolitan Area</td>\n",
       "      <td>False</td>\n",
       "      <td>2018.0</td>\n",
       "      <td>Digital DevOps Engineer at HSBC</td>\n",
       "      <td>AWS Certified Cloud Engineer holding 3 AWS Ass...</td>\n",
       "      <td>Binghamton University</td>\n",
       "      <td>...</td>\n",
       "      <td>network</td>\n",
       "      <td>United States</td>\n",
       "      <td>NaN</td>\n",
       "      <td>Computer Science</td>\n",
       "      <td>Digital DevOps Engineer at HSBC</td>\n",
       "      <td>AWS Certified Cloud Engineer holding 3 AWS Ass...</td>\n",
       "      <td>Digital DevOps Engineer at HSBC AWS Certified ...</td>\n",
       "      <td>arts and design</td>\n",
       "      <td>digital devops engineer hsbc aws certified clo...</td>\n",
       "      <td>0</td>\n",
       "    </tr>\n",
       "    <tr>\n",
       "      <th>2</th>\n",
       "      <td>2</td>\n",
       "      <td>Product Designer</td>\n",
       "      <td>Two Point Conversions, Inc.</td>\n",
       "      <td>Information Technology and Services</td>\n",
       "      <td>Chicago, Illinois, United States</td>\n",
       "      <td>False</td>\n",
       "      <td>2018.0</td>\n",
       "      <td>Leading Product + UX at Remedy (Two Point Conv...</td>\n",
       "      <td>http://aroonmathai.com</td>\n",
       "      <td>Carnegie Mellon University</td>\n",
       "      <td>...</td>\n",
       "      <td>network</td>\n",
       "      <td>United States</td>\n",
       "      <td>NaN</td>\n",
       "      <td>Computer Science</td>\n",
       "      <td>Leading Product + UX at Remedy (Two Point Conv...</td>\n",
       "      <td>http://aroonmathai.com</td>\n",
       "      <td>Leading Product + UX at Remedy (Two Point Conv...</td>\n",
       "      <td>arts and design</td>\n",
       "      <td>leading product ux remedy two point conversion...</td>\n",
       "      <td>0</td>\n",
       "    </tr>\n",
       "    <tr>\n",
       "      <th>3</th>\n",
       "      <td>3</td>\n",
       "      <td>Product Designer</td>\n",
       "      <td>udaan.com</td>\n",
       "      <td>Information Technology and Services</td>\n",
       "      <td>Bangalore Urban, Karnataka, India</td>\n",
       "      <td>False</td>\n",
       "      <td>2018.0</td>\n",
       "      <td>Product Designer at udaan</td>\n",
       "      <td>NaN</td>\n",
       "      <td>Vellore Institute of Technology</td>\n",
       "      <td>...</td>\n",
       "      <td>network</td>\n",
       "      <td>India</td>\n",
       "      <td>AS</td>\n",
       "      <td>Computer Science</td>\n",
       "      <td>Product Designer at udaan</td>\n",
       "      <td></td>\n",
       "      <td>Product Designer at udaan</td>\n",
       "      <td>arts and design</td>\n",
       "      <td>product designer udaan</td>\n",
       "      <td>0</td>\n",
       "    </tr>\n",
       "    <tr>\n",
       "      <th>4</th>\n",
       "      <td>4</td>\n",
       "      <td>Digital Technology Intern</td>\n",
       "      <td>GE</td>\n",
       "      <td>Information Technology and Services</td>\n",
       "      <td>Jaipur, Rajasthan, India</td>\n",
       "      <td>True</td>\n",
       "      <td>2021.0</td>\n",
       "      <td>Digital Technology Intern at General Electric ...</td>\n",
       "      <td>NaN</td>\n",
       "      <td>Vellore Institute of Technology</td>\n",
       "      <td>...</td>\n",
       "      <td>network</td>\n",
       "      <td>India</td>\n",
       "      <td>AS</td>\n",
       "      <td>Computer Science</td>\n",
       "      <td>Digital Technology Intern at General Electric ...</td>\n",
       "      <td></td>\n",
       "      <td>Digital Technology Intern at General Electric ...</td>\n",
       "      <td>arts and design</td>\n",
       "      <td>digital technology intern general electric gas...</td>\n",
       "      <td>0</td>\n",
       "    </tr>\n",
       "  </tbody>\n",
       "</table>\n",
       "<p>5 rows × 26 columns</p>\n",
       "</div>"
      ],
      "text/plain": [
       "   Unnamed: 0                  Job Title                 Company Name  \\\n",
       "0           0           Battery Designer                       Rivian   \n",
       "1           1    Digital DevOps Engineer                         HSBC   \n",
       "2           2           Product Designer  Two Point Conversions, Inc.   \n",
       "3           3           Product Designer                    udaan.com   \n",
       "4           4  Digital Technology Intern                           GE   \n",
       "\n",
       "                               Industry                   Company Location  \\\n",
       "0  Mechanical or Industrial Engineering        Dublin, Ohio, United States   \n",
       "1   Information Technology and Services    New York City Metropolitan Area   \n",
       "2   Information Technology and Services   Chicago, Illinois, United States   \n",
       "3   Information Technology and Services  Bangalore Urban, Karnataka, India   \n",
       "4   Information Technology and Services           Jaipur, Rajasthan, India   \n",
       "\n",
       "   New Job (90 Days)  Year Started  \\\n",
       "0              False        2020.0   \n",
       "1              False        2018.0   \n",
       "2              False        2018.0   \n",
       "3              False        2018.0   \n",
       "4               True        2021.0   \n",
       "\n",
       "                                    Profile Headline  \\\n",
       "0  Mechanical Design Engineer, System Integration...   \n",
       "1                    Digital DevOps Engineer at HSBC   \n",
       "2  Leading Product + UX at Remedy (Two Point Conv...   \n",
       "3                          Product Designer at udaan   \n",
       "4  Digital Technology Intern at General Electric ...   \n",
       "\n",
       "                                     Profile Summary  \\\n",
       "0  In the ever-growing technological world where ...   \n",
       "1  AWS Certified Cloud Engineer holding 3 AWS Ass...   \n",
       "2                             http://aroonmathai.com   \n",
       "3                                                NaN   \n",
       "4                                                NaN   \n",
       "\n",
       "                              School  ... My Network        Country Continent  \\\n",
       "0  Chalmers University of Technology  ...    network  United States       NaN   \n",
       "1              Binghamton University  ...    network  United States       NaN   \n",
       "2         Carnegie Mellon University  ...    network  United States       NaN   \n",
       "3    Vellore Institute of Technology  ...    network          India        AS   \n",
       "4    Vellore Institute of Technology  ...    network          India        AS   \n",
       "\n",
       "                                        FieldOfStudy  \\\n",
       "0  Electrical, Electronics and Communication Engi...   \n",
       "1                                   Computer Science   \n",
       "2                                   Computer Science   \n",
       "3                                   Computer Science   \n",
       "4                                   Computer Science   \n",
       "\n",
       "                                     ProfileHeadline  \\\n",
       "0  Mechanical Design Engineer, System Integration...   \n",
       "1                    Digital DevOps Engineer at HSBC   \n",
       "2  Leading Product + UX at Remedy (Two Point Conv...   \n",
       "3                          Product Designer at udaan   \n",
       "4  Digital Technology Intern at General Electric ...   \n",
       "\n",
       "                                      ProfileSummary  \\\n",
       "0  In the ever-growing technological world where ...   \n",
       "1  AWS Certified Cloud Engineer holding 3 AWS Ass...   \n",
       "2                             http://aroonmathai.com   \n",
       "3                                                      \n",
       "4                                                      \n",
       "\n",
       "                                               total     job_category  \\\n",
       "0  Mechanical Design Engineer, System Integration...  arts and design   \n",
       "1  Digital DevOps Engineer at HSBC AWS Certified ...  arts and design   \n",
       "2  Leading Product + UX at Remedy (Two Point Conv...  arts and design   \n",
       "3                        Product Designer at udaan    arts and design   \n",
       "4  Digital Technology Intern at General Electric ...  arts and design   \n",
       "\n",
       "                                        preprocessed category_id  \n",
       "0  mechanical design engineer system integration ...           0  \n",
       "1  digital devops engineer hsbc aws certified clo...           0  \n",
       "2  leading product ux remedy two point conversion...           0  \n",
       "3                             product designer udaan           0  \n",
       "4  digital technology intern general electric gas...           0  \n",
       "\n",
       "[5 rows x 26 columns]"
      ]
     },
     "execution_count": 17,
     "metadata": {},
     "output_type": "execute_result"
    }
   ],
   "source": [
    "# creating encoded label of Domain in new column\n",
    "df1['category_id'] = df1['job_category'].factorize()[0]\n",
    "category_id_df = df1[['job_category', 'category_id']].drop_duplicates().sort_values('category_id')\n",
    "category_to_id = dict(category_id_df.values)\n",
    "id_to_category = dict(category_id_df[['category_id', 'job_category']].values)\n",
    "df1.head()"
   ]
  },
  {
   "cell_type": "code",
   "execution_count": 18,
   "metadata": {
    "id": "38uysUdPQ0Mh"
   },
   "outputs": [
    {
     "data": {
      "image/png": "[encoded data removed]",
      "text/plain": [
       "<Figure size 720x360 with 1 Axes>"
      ]
     },
     "metadata": {
      "needs_background": "light"
     },
     "output_type": "display_data"
    }
   ],
   "source": [
    "plt.rcParams.update({'font.size': 18})\n",
    "fig = plt.figure(figsize=(10,5))\n",
    "df1.groupby('job_category').preprocessed.count().plot.bar(ylim=0)\n",
    "#plt.xticks(rotation=45)\n",
    "plt.title('frequency of Domain in the dataset')\n",
    "plt.show()"
   ]
  },
  {
   "cell_type": "code",
   "execution_count": 19,
   "metadata": {
    "id": "we1MSKbLRE3I"
   },
   "outputs": [
    {
     "data": {
      "text/plain": [
       "(4910, 7245)"
      ]
     },
     "execution_count": 19,
     "metadata": {},
     "output_type": "execute_result"
    }
   ],
   "source": [
    "# making tfidf vector of the text in description column\n",
    "tfidf = TfidfVectorizer(sublinear_tf=True, min_df=5, norm='l2', encoding='latin-1', ngram_range=(1, 2), stop_words='english')\n",
    "features = tfidf.fit_transform(df1.preprocessed).toarray()\n",
    "labels = df1.category_id\n",
    "features.shape"
   ]
  },
  {
   "cell_type": "code",
   "execution_count": 20,
   "metadata": {
    "id": "lwIaf4S3RK-t"
   },
   "outputs": [
    {
     "name": "stdout",
     "output_type": "stream",
     "text": [
      "# 'arts and design':\n",
      "  . Most correlated unigrams:\n",
      ". design\n",
      ". designer\n",
      "  . Most correlated bigrams:\n",
      ". design intern\n",
      ". graphic designer\n",
      " \n",
      "# 'business development ':\n",
      "  . Most correlated unigrams:\n",
      ". deloitte\n",
      ". analyst\n",
      "  . Most correlated bigrams:\n",
      ". deloitte india\n",
      ". analyst deloitte\n",
      " \n",
      "# 'marketing':\n",
      "  . Most correlated unigrams:\n",
      ". marketer\n",
      ". marketing\n",
      "  . Most correlated bigrams:\n",
      ". digital marketing\n",
      ". marketing intern\n",
      " \n",
      "# 'media and communication':\n",
      "  . Most correlated unigrams:\n",
      ". content\n",
      ". writer\n",
      "  . Most correlated bigrams:\n",
      ". medical writer\n",
      ". content writer\n",
      " \n",
      "# 'product management':\n",
      "  . Most correlated unigrams:\n",
      ". manager\n",
      ". product\n",
      "  . Most correlated bigrams:\n",
      ". product management\n",
      ". product manager\n",
      " \n",
      "# 'program and project management':\n",
      "  . Most correlated unigrams:\n",
      ". manager\n",
      ". project\n",
      "  . Most correlated bigrams:\n",
      ". program manager\n",
      ". project manager\n",
      " \n",
      "# 'sales':\n",
      "  . Most correlated unigrams:\n",
      ". account\n",
      ". sales\n",
      "  . Most correlated bigrams:\n",
      ". account manager\n",
      ". sales manager\n",
      " \n"
     ]
    }
   ],
   "source": [
    "# findning out most common features of different Domain\n",
    "from sklearn.feature_selection import chi2\n",
    "import numpy as np\n",
    "N = 2\n",
    "for perprocessed, category_id in sorted(category_to_id.items()):\n",
    "    features_chi2 = chi2(features, labels == category_id)\n",
    "    indices = np.argsort(features_chi2[0])\n",
    "    feature_names = np.array(tfidf.get_feature_names())[indices]\n",
    "    unigrams = [v for v in feature_names if len(v.split(' ')) == 1]\n",
    "    bigrams = [v for v in feature_names if len(v.split(' ')) == 2]\n",
    "    print(\"# '{}':\".format(perprocessed))\n",
    "    print(\"  . Most correlated unigrams:\\n. {}\".format('\\n. '.join(unigrams[-N:])))\n",
    "    print(\"  . Most correlated bigrams:\\n. {}\".format('\\n. '.join(bigrams[-N:])))\n",
    "    print(\" \")"
   ]
  },
  {
   "cell_type": "markdown",
   "metadata": {},
   "source": [
    "# Linear SVC"
   ]
  },
  {
   "cell_type": "code",
   "execution_count": 21,
   "metadata": {},
   "outputs": [],
   "source": [
    "# creating word vector and model for prediction\n",
    "X_train, X_test, y_train, y_test = train_test_split(df1['preprocessed'], df1['job_category'], random_state = 0,stratify = df1['job_category'],test_size=0.25)\n",
    "count_vect = CountVectorizer()\n",
    "X_train_counts = count_vect.fit_transform(X_train)\n",
    "tfidf_transformer = TfidfTransformer()\n",
    "X_train_tfidf = tfidf_transformer.fit_transform(X_train_counts)\n",
    "clf = LinearSVC().fit(X_train_tfidf, y_train)"
   ]
  },
  {
   "cell_type": "code",
   "execution_count": 22,
   "metadata": {},
   "outputs": [
    {
     "name": "stdout",
     "output_type": "stream",
     "text": [
      "['arts and design']\n"
     ]
    }
   ],
   "source": [
    "# checking model prediction in data\n",
    "print(clf.predict(count_vect.transform([\"product designer udaan\"])))"
   ]
  },
  {
   "cell_type": "code",
   "execution_count": 23,
   "metadata": {},
   "outputs": [
    {
     "data": {
      "text/html": [
       "<div>\n",
       "<style scoped>\n",
       "    .dataframe tbody tr th:only-of-type {\n",
       "        vertical-align: middle;\n",
       "    }\n",
       "\n",
       "    .dataframe tbody tr th {\n",
       "        vertical-align: top;\n",
       "    }\n",
       "\n",
       "    .dataframe thead th {\n",
       "        text-align: right;\n",
       "    }\n",
       "</style>\n",
       "<table border=\"1\" class=\"dataframe\">\n",
       "  <thead>\n",
       "    <tr style=\"text-align: right;\">\n",
       "      <th></th>\n",
       "      <th>Unnamed: 0</th>\n",
       "      <th>Job Title</th>\n",
       "      <th>Company Name</th>\n",
       "      <th>Industry</th>\n",
       "      <th>Company Location</th>\n",
       "      <th>New Job (90 Days)</th>\n",
       "      <th>Year Started</th>\n",
       "      <th>Profile Headline</th>\n",
       "      <th>Profile Summary</th>\n",
       "      <th>School</th>\n",
       "      <th>...</th>\n",
       "      <th>My Network</th>\n",
       "      <th>Country</th>\n",
       "      <th>Continent</th>\n",
       "      <th>FieldOfStudy</th>\n",
       "      <th>ProfileHeadline</th>\n",
       "      <th>ProfileSummary</th>\n",
       "      <th>total</th>\n",
       "      <th>job_category</th>\n",
       "      <th>preprocessed</th>\n",
       "      <th>category_id</th>\n",
       "    </tr>\n",
       "  </thead>\n",
       "  <tbody>\n",
       "    <tr>\n",
       "      <th>3</th>\n",
       "      <td>3</td>\n",
       "      <td>Product Designer</td>\n",
       "      <td>udaan.com</td>\n",
       "      <td>Information Technology and Services</td>\n",
       "      <td>Bangalore Urban, Karnataka, India</td>\n",
       "      <td>False</td>\n",
       "      <td>2018.0</td>\n",
       "      <td>Product Designer at udaan</td>\n",
       "      <td>NaN</td>\n",
       "      <td>Vellore Institute of Technology</td>\n",
       "      <td>...</td>\n",
       "      <td>network</td>\n",
       "      <td>India</td>\n",
       "      <td>AS</td>\n",
       "      <td>Computer Science</td>\n",
       "      <td>Product Designer at udaan</td>\n",
       "      <td></td>\n",
       "      <td>Product Designer at udaan</td>\n",
       "      <td>arts and design</td>\n",
       "      <td>product designer udaan</td>\n",
       "      <td>0</td>\n",
       "    </tr>\n",
       "    <tr>\n",
       "      <th>25</th>\n",
       "      <td>25</td>\n",
       "      <td>Product Designer</td>\n",
       "      <td>udaan.com</td>\n",
       "      <td>Information Technology and Services</td>\n",
       "      <td>Bangalore Urban, Karnataka, India</td>\n",
       "      <td>False</td>\n",
       "      <td>2018.0</td>\n",
       "      <td>Product Designer at udaan</td>\n",
       "      <td>NaN</td>\n",
       "      <td>Vellore Institute of Technology</td>\n",
       "      <td>...</td>\n",
       "      <td>network</td>\n",
       "      <td>India</td>\n",
       "      <td>AS</td>\n",
       "      <td>Computer Science</td>\n",
       "      <td>Product Designer at udaan</td>\n",
       "      <td></td>\n",
       "      <td>Product Designer at udaan</td>\n",
       "      <td>arts and design</td>\n",
       "      <td>product designer udaan</td>\n",
       "      <td>0</td>\n",
       "    </tr>\n",
       "  </tbody>\n",
       "</table>\n",
       "<p>2 rows × 26 columns</p>\n",
       "</div>"
      ],
      "text/plain": [
       "    Unnamed: 0         Job Title Company Name  \\\n",
       "3            3  Product Designer    udaan.com   \n",
       "25          25  Product Designer    udaan.com   \n",
       "\n",
       "                               Industry                   Company Location  \\\n",
       "3   Information Technology and Services  Bangalore Urban, Karnataka, India   \n",
       "25  Information Technology and Services  Bangalore Urban, Karnataka, India   \n",
       "\n",
       "    New Job (90 Days)  Year Started           Profile Headline  \\\n",
       "3               False        2018.0  Product Designer at udaan   \n",
       "25              False        2018.0  Product Designer at udaan   \n",
       "\n",
       "   Profile Summary                           School  ... My Network Country  \\\n",
       "3              NaN  Vellore Institute of Technology  ...    network   India   \n",
       "25             NaN  Vellore Institute of Technology  ...    network   India   \n",
       "\n",
       "   Continent      FieldOfStudy            ProfileHeadline ProfileSummary  \\\n",
       "3         AS  Computer Science  Product Designer at udaan                  \n",
       "25        AS  Computer Science  Product Designer at udaan                  \n",
       "\n",
       "                          total     job_category            preprocessed  \\\n",
       "3   Product Designer at udaan    arts and design  product designer udaan   \n",
       "25  Product Designer at udaan    arts and design  product designer udaan   \n",
       "\n",
       "   category_id  \n",
       "3            0  \n",
       "25           0  \n",
       "\n",
       "[2 rows x 26 columns]"
      ]
     },
     "execution_count": 23,
     "metadata": {},
     "output_type": "execute_result"
    }
   ],
   "source": [
    "df1[df1['preprocessed'] == \"product designer udaan\"]"
   ]
  },
  {
   "cell_type": "code",
   "execution_count": 24,
   "metadata": {},
   "outputs": [
    {
     "name": "stdout",
     "output_type": "stream",
     "text": [
      "0.9098316132536665\n"
     ]
    }
   ],
   "source": [
    "# training accuracy of the model\n",
    "print(accuracy_score(y_train,clf.predict(X_train_tfidf)))"
   ]
  },
  {
   "cell_type": "code",
   "execution_count": 25,
   "metadata": {},
   "outputs": [
    {
     "name": "stdout",
     "output_type": "stream",
     "text": [
      "0.5488599348534202\n"
     ]
    }
   ],
   "source": [
    "# testing accuracy of the model\n",
    "print(accuracy_score(y_test,clf.predict(count_vect.transform(X_test))))"
   ]
  },
  {
   "cell_type": "markdown",
   "metadata": {},
   "source": [
    "# Multinomial Naive Bayes"
   ]
  },
  {
   "cell_type": "code",
   "execution_count": 26,
   "metadata": {},
   "outputs": [],
   "source": [
    "clf = MultinomialNB().fit(X_train_tfidf, y_train)"
   ]
  },
  {
   "cell_type": "code",
   "execution_count": 27,
   "metadata": {},
   "outputs": [
    {
     "name": "stdout",
     "output_type": "stream",
     "text": [
      "['arts and design']\n"
     ]
    }
   ],
   "source": [
    "# checking model prediction in data\n",
    "print(clf.predict(count_vect.transform([\"product designer udaan\"])))"
   ]
  },
  {
   "cell_type": "code",
   "execution_count": 28,
   "metadata": {},
   "outputs": [
    {
     "name": "stdout",
     "output_type": "stream",
     "text": [
      "0.7045084193373167\n"
     ]
    }
   ],
   "source": [
    "# training accuracy of the model\n",
    "print(accuracy_score(y_train,clf.predict(X_train_tfidf)))"
   ]
  },
  {
   "cell_type": "code",
   "execution_count": 29,
   "metadata": {},
   "outputs": [
    {
     "name": "stdout",
     "output_type": "stream",
     "text": [
      "0.501628664495114\n"
     ]
    }
   ],
   "source": [
    "# testing accuracy of the model\n",
    "print(accuracy_score(y_test,clf.predict(count_vect.transform(X_test))))"
   ]
  },
  {
   "cell_type": "code",
   "execution_count": 30,
   "metadata": {},
   "outputs": [
    {
     "data": {
      "image/png": "[encoded data removed]",
      "text/plain": [
       "<Figure size 432x288 with 1 Axes>"
      ]
     },
     "metadata": {
      "needs_background": "light"
     },
     "output_type": "display_data"
    }
   ],
   "source": [
    "# testing some more models\n",
    "CV = StratifiedKFold(n_splits=5)\n",
    "models = [\n",
    "    RandomForestClassifier(n_estimators=200, max_depth=3, random_state=0),\n",
    "    LinearSVC(),\n",
    "    MultinomialNB(),\n",
    "]\n",
    "#CV = 5\n",
    "cv_df = pd.DataFrame(index=range(5 * len(models)))\n",
    "entries = []\n",
    "for model in models:\n",
    "    model_name = model.__class__.__name__\n",
    "    accuracies = cross_val_score(model, features, labels, scoring='accuracy', cv=CV,)\n",
    "    for fold_idx, accuracy in enumerate(accuracies):\n",
    "        entries.append((model_name, fold_idx, accuracy))\n",
    "cv_df = pd.DataFrame(entries, columns=['model_name', 'fold_idx', 'accuracy'])\n",
    "import seaborn as sns\n",
    "sns.boxplot(x='model_name', y='accuracy', data=cv_df)\n",
    "sns.stripplot(x='model_name', y='accuracy', data=cv_df, \n",
    "              size=8, jitter=True, edgecolor=\"gray\", linewidth=2)\n",
    "plt.xticks(rotation=90)\n",
    "plt.show()"
   ]
  }
 ],
 "metadata": {
  "colab": {
   "collapsed_sections": [
    "keOYargW9zZi",
    "FzbM_YXt9fQq",
    "Vucs4pU2p36t",
    "1djgDk6l9Clq",
    "zpShvtG2665T",
    "JSJD8dnLnda8",
    "iQD9ChOQ-KNV",
    "hp4FSKssAQdt",
    "v3pSJOE_Cl2I",
    "r0yaAfTgrA11",
    "enji13oOW4l9",
    "8gC1uPy77mqN",
    "hhijVzgdPIyi",
    "M2h5DCTNN9rM"
   ],
   "name": "DV Pre-processing.ipynb",
   "provenance": []
  },
  "kernelspec": {
   "display_name": "Python 3",
   "language": "python",
   "name": "python3"
  },
  "language_info": {
   "codemirror_mode": {
    "name": "ipython",
    "version": 3
   },
   "file_extension": ".py",
   "mimetype": "text/x-python",
   "name": "python",
   "nbconvert_exporter": "python",
   "pygments_lexer": "ipython3",
   "version": "3.8.3"
  }
 },
 "nbformat": 4,
 "nbformat_minor": 1
}
